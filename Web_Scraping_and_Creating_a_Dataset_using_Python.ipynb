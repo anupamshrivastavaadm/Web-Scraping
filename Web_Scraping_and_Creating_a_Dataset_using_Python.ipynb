{
  "nbformat": 4,
  "nbformat_minor": 0,
  "metadata": {
    "colab": {
      "provenance": []
    },
    "kernelspec": {
      "name": "python3",
      "display_name": "Python 3"
    },
    "language_info": {
      "name": "python"
    }
  },
  "cells": [
    {
      "cell_type": "markdown",
      "source": [
        "#Web Scraping and Creating a Dataset using Python"
      ],
      "metadata": {
        "id": "U2_mXomOyCy-"
      }
    },
    {
      "cell_type": "markdown",
      "source": [
        "Importing required libraries"
      ],
      "metadata": {
        "id": "IQUYxBs7yR_N"
      }
    },
    {
      "cell_type": "code",
      "execution_count": 1,
      "metadata": {
        "id": "z9gXia95Q1XW"
      },
      "outputs": [],
      "source": [
        "import csv\n",
        "from urllib.request import urlopen\n",
        "from bs4 import BeautifulSoup"
      ]
    },
    {
      "cell_type": "markdown",
      "source": [
        "using the BeautifulSoup library in Python for the task of web scraping and creating a dataset"
      ],
      "metadata": {
        "id": "MOsnEwaNyX49"
      }
    },
    {
      "cell_type": "code",
      "source": [
        "html = urlopen(\"https://en.wikipedia.org/wiki/Comparison_of_programming_languages_(functional_programming)\")\n",
        "soup = BeautifulSoup(html, \"html.parser\")\n",
        "table = soup.findAll(\"table\", {\"class\":\"wikitable\"})[0]\n",
        "rows = table.findAll(\"tr\")"
      ],
      "metadata": {
        "id": "K67NXJpnRmre"
      },
      "execution_count": 2,
      "outputs": []
    },
    {
      "cell_type": "markdown",
      "source": [
        "Scraping data from the above web page to create a dataset"
      ],
      "metadata": {
        "id": "QmQyOSYl1eKl"
      }
    },
    {
      "cell_type": "code",
      "source": [
        "with open(\"language.csv\", \"wt+\", newline=\"\") as f:\n",
        "    writer = csv.writer(f)\n",
        "    for i in rows:\n",
        "        row = []\n",
        "        for cell in i.findAll([\"td\", \"th\"]):\n",
        "            row.append(cell.get_text())\n",
        "        writer.writerow(row)"
      ],
      "metadata": {
        "id": "jBxfvDXlRpEu"
      },
      "execution_count": 3,
      "outputs": []
    },
    {
      "cell_type": "markdown",
      "source": [
        "Saving a dataset using pandas library"
      ],
      "metadata": {
        "id": "7Rz2OY8V2Fnr"
      }
    },
    {
      "cell_type": "code",
      "source": [
        "import pandas as pd\n",
        "a = pd.read_csv(\"language.csv\")\n",
        "a.head()"
      ],
      "metadata": {
        "colab": {
          "base_uri": "https://localhost:8080/",
          "height": 319
        },
        "id": "fOtpvtIKRqD1",
        "outputId": "9bf095c5-bc65-4863-b8df-180fd86940e0"
      },
      "execution_count": 5,
      "outputs": [
        {
          "output_type": "execute_result",
          "data": {
            "text/plain": [
              "                                     \\n             identity lambda\\n  \\\n",
              "0                              Python\\n                 lambda x: x\\n   \n",
              "1                         Mathematica\\n                          #&\\n   \n",
              "2                               C#[1]\\n                      x => x\\n   \n",
              "3                Visual Basic .NET[1]\\n               Function(x) x\\n   \n",
              "4  F#[2] (can use Enumerable as well)\\n  id(built-in)\\nfun x -> x\\n\\n   \n",
              "\n",
              "                                            lambda\\n  \\\n",
              "0                                lambda args: expr\\n   \n",
              "1  (expr)& (arguments are #1, #2, etc.)\\nFunction...   \n",
              "2                                   (args) => expr\\n   \n",
              "3                              Function(args) expr\\n   \n",
              "4                              fun pattern -> expr\\n   \n",
              "\n",
              "                               map\\n                              apply\\n  \\\n",
              "0                  map(func, list)\\n                  nfunc(*arguments)\\n   \n",
              "1  Map[func, list]\\nfunc /@ list\\n\\n  Apply[nfunc, args]\\nnfunc@@args\\n\\n   \n",
              "2    Enumerable.Select(list, func)\\n                Requires reflection\\n   \n",
              "3                                NaN                                  NaN   \n",
              "4                Seq.map func list\\n               Seq.filter pred list\\n   \n",
              "\n",
              "                         filter\\n  \\\n",
              "0            filter(pred, list)\\n   \n",
              "1            Select[list, pred]\\n   \n",
              "2  Enumerable.Where(list, pred)\\n   \n",
              "3                             NaN   \n",
              "4       Seq.fold func2 val list\\n   \n",
              "\n",
              "                                              fold\\n  \\\n",
              "0                    functools.reduce(func2, list)\\n   \n",
              "1                           Fold[func2, val, list]\\n   \n",
              "2  Enumerable.Aggregate(list, func2)\\nEnumerable....   \n",
              "3                                                NaN   \n",
              "4              Seq.sum list\\nSeq.sumBy func list\\n\\n   \n",
              "\n",
              "                                               sum\\n  \n",
              "0                                        sum(list)\\n  \n",
              "1                   Apply[Plus,list]\\nPlus@@list\\n\\n  \n",
              "2  Enumerable.Sum(list)\\nEnumerable.Sum(list, fun...  \n",
              "3                                                NaN  \n",
              "4                                                NaN  "
            ],
            "text/html": [
              "\n",
              "  <div id=\"df-2f9ac6ff-7069-4c02-96ab-6472ee4495eb\">\n",
              "    <div class=\"colab-df-container\">\n",
              "      <div>\n",
              "<style scoped>\n",
              "    .dataframe tbody tr th:only-of-type {\n",
              "        vertical-align: middle;\n",
              "    }\n",
              "\n",
              "    .dataframe tbody tr th {\n",
              "        vertical-align: top;\n",
              "    }\n",
              "\n",
              "    .dataframe thead th {\n",
              "        text-align: right;\n",
              "    }\n",
              "</style>\n",
              "<table border=\"1\" class=\"dataframe\">\n",
              "  <thead>\n",
              "    <tr style=\"text-align: right;\">\n",
              "      <th></th>\n",
              "      <th>\\n</th>\n",
              "      <th>identity lambda\\n</th>\n",
              "      <th>lambda\\n</th>\n",
              "      <th>map\\n</th>\n",
              "      <th>apply\\n</th>\n",
              "      <th>filter\\n</th>\n",
              "      <th>fold\\n</th>\n",
              "      <th>sum\\n</th>\n",
              "    </tr>\n",
              "  </thead>\n",
              "  <tbody>\n",
              "    <tr>\n",
              "      <th>0</th>\n",
              "      <td>Python\\n</td>\n",
              "      <td>lambda x: x\\n</td>\n",
              "      <td>lambda args: expr\\n</td>\n",
              "      <td>map(func, list)\\n</td>\n",
              "      <td>nfunc(*arguments)\\n</td>\n",
              "      <td>filter(pred, list)\\n</td>\n",
              "      <td>functools.reduce(func2, list)\\n</td>\n",
              "      <td>sum(list)\\n</td>\n",
              "    </tr>\n",
              "    <tr>\n",
              "      <th>1</th>\n",
              "      <td>Mathematica\\n</td>\n",
              "      <td>#&amp;\\n</td>\n",
              "      <td>(expr)&amp; (arguments are #1, #2, etc.)\\nFunction...</td>\n",
              "      <td>Map[func, list]\\nfunc /@ list\\n\\n</td>\n",
              "      <td>Apply[nfunc, args]\\nnfunc@@args\\n\\n</td>\n",
              "      <td>Select[list, pred]\\n</td>\n",
              "      <td>Fold[func2, val, list]\\n</td>\n",
              "      <td>Apply[Plus,list]\\nPlus@@list\\n\\n</td>\n",
              "    </tr>\n",
              "    <tr>\n",
              "      <th>2</th>\n",
              "      <td>C#[1]\\n</td>\n",
              "      <td>x =&gt; x\\n</td>\n",
              "      <td>(args) =&gt; expr\\n</td>\n",
              "      <td>Enumerable.Select(list, func)\\n</td>\n",
              "      <td>Requires reflection\\n</td>\n",
              "      <td>Enumerable.Where(list, pred)\\n</td>\n",
              "      <td>Enumerable.Aggregate(list, func2)\\nEnumerable....</td>\n",
              "      <td>Enumerable.Sum(list)\\nEnumerable.Sum(list, fun...</td>\n",
              "    </tr>\n",
              "    <tr>\n",
              "      <th>3</th>\n",
              "      <td>Visual Basic .NET[1]\\n</td>\n",
              "      <td>Function(x) x\\n</td>\n",
              "      <td>Function(args) expr\\n</td>\n",
              "      <td>NaN</td>\n",
              "      <td>NaN</td>\n",
              "      <td>NaN</td>\n",
              "      <td>NaN</td>\n",
              "      <td>NaN</td>\n",
              "    </tr>\n",
              "    <tr>\n",
              "      <th>4</th>\n",
              "      <td>F#[2] (can use Enumerable as well)\\n</td>\n",
              "      <td>id(built-in)\\nfun x -&gt; x\\n\\n</td>\n",
              "      <td>fun pattern -&gt; expr\\n</td>\n",
              "      <td>Seq.map func list\\n</td>\n",
              "      <td>Seq.filter pred list\\n</td>\n",
              "      <td>Seq.fold func2 val list\\n</td>\n",
              "      <td>Seq.sum list\\nSeq.sumBy func list\\n\\n</td>\n",
              "      <td>NaN</td>\n",
              "    </tr>\n",
              "  </tbody>\n",
              "</table>\n",
              "</div>\n",
              "      <button class=\"colab-df-convert\" onclick=\"convertToInteractive('df-2f9ac6ff-7069-4c02-96ab-6472ee4495eb')\"\n",
              "              title=\"Convert this dataframe to an interactive table.\"\n",
              "              style=\"display:none;\">\n",
              "        \n",
              "  <svg xmlns=\"http://www.w3.org/2000/svg\" height=\"24px\"viewBox=\"0 0 24 24\"\n",
              "       width=\"24px\">\n",
              "    <path d=\"M0 0h24v24H0V0z\" fill=\"none\"/>\n",
              "    <path d=\"M18.56 5.44l.94 2.06.94-2.06 2.06-.94-2.06-.94-.94-2.06-.94 2.06-2.06.94zm-11 1L8.5 8.5l.94-2.06 2.06-.94-2.06-.94L8.5 2.5l-.94 2.06-2.06.94zm10 10l.94 2.06.94-2.06 2.06-.94-2.06-.94-.94-2.06-.94 2.06-2.06.94z\"/><path d=\"M17.41 7.96l-1.37-1.37c-.4-.4-.92-.59-1.43-.59-.52 0-1.04.2-1.43.59L10.3 9.45l-7.72 7.72c-.78.78-.78 2.05 0 2.83L4 21.41c.39.39.9.59 1.41.59.51 0 1.02-.2 1.41-.59l7.78-7.78 2.81-2.81c.8-.78.8-2.07 0-2.86zM5.41 20L4 18.59l7.72-7.72 1.47 1.35L5.41 20z\"/>\n",
              "  </svg>\n",
              "      </button>\n",
              "      \n",
              "  <style>\n",
              "    .colab-df-container {\n",
              "      display:flex;\n",
              "      flex-wrap:wrap;\n",
              "      gap: 12px;\n",
              "    }\n",
              "\n",
              "    .colab-df-convert {\n",
              "      background-color: #E8F0FE;\n",
              "      border: none;\n",
              "      border-radius: 50%;\n",
              "      cursor: pointer;\n",
              "      display: none;\n",
              "      fill: #1967D2;\n",
              "      height: 32px;\n",
              "      padding: 0 0 0 0;\n",
              "      width: 32px;\n",
              "    }\n",
              "\n",
              "    .colab-df-convert:hover {\n",
              "      background-color: #E2EBFA;\n",
              "      box-shadow: 0px 1px 2px rgba(60, 64, 67, 0.3), 0px 1px 3px 1px rgba(60, 64, 67, 0.15);\n",
              "      fill: #174EA6;\n",
              "    }\n",
              "\n",
              "    [theme=dark] .colab-df-convert {\n",
              "      background-color: #3B4455;\n",
              "      fill: #D2E3FC;\n",
              "    }\n",
              "\n",
              "    [theme=dark] .colab-df-convert:hover {\n",
              "      background-color: #434B5C;\n",
              "      box-shadow: 0px 1px 3px 1px rgba(0, 0, 0, 0.15);\n",
              "      filter: drop-shadow(0px 1px 2px rgba(0, 0, 0, 0.3));\n",
              "      fill: #FFFFFF;\n",
              "    }\n",
              "  </style>\n",
              "\n",
              "      <script>\n",
              "        const buttonEl =\n",
              "          document.querySelector('#df-2f9ac6ff-7069-4c02-96ab-6472ee4495eb button.colab-df-convert');\n",
              "        buttonEl.style.display =\n",
              "          google.colab.kernel.accessAllowed ? 'block' : 'none';\n",
              "\n",
              "        async function convertToInteractive(key) {\n",
              "          const element = document.querySelector('#df-2f9ac6ff-7069-4c02-96ab-6472ee4495eb');\n",
              "          const dataTable =\n",
              "            await google.colab.kernel.invokeFunction('convertToInteractive',\n",
              "                                                     [key], {});\n",
              "          if (!dataTable) return;\n",
              "\n",
              "          const docLinkHtml = 'Like what you see? Visit the ' +\n",
              "            '<a target=\"_blank\" href=https://colab.research.google.com/notebooks/data_table.ipynb>data table notebook</a>'\n",
              "            + ' to learn more about interactive tables.';\n",
              "          element.innerHTML = '';\n",
              "          dataTable['output_type'] = 'display_data';\n",
              "          await google.colab.output.renderOutput(dataTable, element);\n",
              "          const docLink = document.createElement('div');\n",
              "          docLink.innerHTML = docLinkHtml;\n",
              "          element.appendChild(docLink);\n",
              "        }\n",
              "      </script>\n",
              "    </div>\n",
              "  </div>\n",
              "  "
            ]
          },
          "metadata": {},
          "execution_count": 5
        }
      ]
    }
  ]
}